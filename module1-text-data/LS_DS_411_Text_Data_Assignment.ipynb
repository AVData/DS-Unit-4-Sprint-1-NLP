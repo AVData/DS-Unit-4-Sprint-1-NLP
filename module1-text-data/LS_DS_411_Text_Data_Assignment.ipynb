{
 "cells": [
  {
   "cell_type": "markdown",
   "metadata": {},
   "source": [
    "<img align=\"left\" src=\"https://lever-client-logos.s3.amazonaws.com/864372b1-534c-480e-acd5-9711f850815c-1524247202159.png\" width=200>\n",
    "<br></br>\n",
    "<br></br>\n",
    "\n",
    "# Natural Language Processing (NLP)\n",
    "## *Data Science Unit 4 Sprint 1 Assignment 1*\n",
    "\n",
    "Your goal in this assignment: find the attributes of the best & worst coffee shops in the dataset. The text is fairly raw: dates in the review, extra words in the `star_rating` column, etc. You'll probably want to clean that stuff up for a better analysis. \n",
    "\n",
    "Analyze the corpus of text using text visualizations of token frequency. Try cleaning the data as much as possible. Try the following techniques: \n",
    "- Lemmatization\n",
    "- Custom stopword removal\n",
    "\n",
    "Keep in mind the attributes of good tokens. Once you have a solid baseline, layer in the star rating in your visualization(s). Key part of this assignment - produce a write-up of the attributes of the best and worst coffee shops. Based on your analysis, what makes the best the best and the worst the worst. Use graphs and numbesr from your analysis to support your conclusions. There should be plenty of markdown cells! :coffee:"
   ]
  },
  {
   "cell_type": "code",
   "execution_count": 1,
   "metadata": {},
   "outputs": [
    {
     "data": {
      "image/jpeg": "[encoded data removed]",
      "text/html": [
       "\n",
       "        <iframe\n",
       "            width=\"400\"\n",
       "            height=\"300\"\n",
       "            src=\"https://www.youtube.com/embed/Jml7NVYm8cs\"\n",
       "            frameborder=\"0\"\n",
       "            allowfullscreen\n",
       "        ></iframe>\n",
       "        "
      ],
      "text/plain": [
       "<IPython.lib.display.YouTubeVideo at 0x111084780>"
      ]
     },
     "execution_count": 1,
     "metadata": {},
     "output_type": "execute_result"
    }
   ],
   "source": [
    "from IPython.display import YouTubeVideo\n",
    "\n",
    "YouTubeVideo('Jml7NVYm8cs')"
   ]
  },
  {
   "cell_type": "code",
   "execution_count": null,
   "metadata": {},
   "outputs": [],
   "source": [
    "# import statements to be used in the following analysis\n",
    "\n",
    "# Base\n",
    "from collections import Counter\n",
    "import re, string\n",
    "import pandas as pd\n",
    "\n",
    "# Plotting\n",
    "import squarify\n",
    "import matplotlib.pyplot as plt\n",
    "import seaborn as sns\n",
    "\n",
    "# NLP Libraries\n",
    "import spacy\n",
    "from spacy.tokenizer import Tokenizer\n",
    "from nltk.stem import PorterStemmer"
   ]
  },
  {
   "cell_type": "code",
   "execution_count": 1,
   "metadata": {},
   "outputs": [
    {
     "data": {
      "text/plain": [
       "'/Users/flanuer/Downloads/Lambda/DS-Unit-4/DS-Unit-4-Sprint-1-NLP/module1-text-data'"
      ]
     },
     "execution_count": 1,
     "metadata": {},
     "output_type": "execute_result"
    }
   ],
   "source": [
    "%pwd"
   ]
  },
  {
   "cell_type": "code",
   "execution_count": 35,
   "metadata": {},
   "outputs": [
    {
     "data": {
      "text/html": [
       "<div>\n",
       "<style scoped>\n",
       "    .dataframe tbody tr th:only-of-type {\n",
       "        vertical-align: middle;\n",
       "    }\n",
       "\n",
       "    .dataframe tbody tr th {\n",
       "        vertical-align: top;\n",
       "    }\n",
       "\n",
       "    .dataframe thead th {\n",
       "        text-align: right;\n",
       "    }\n",
       "</style>\n",
       "<table border=\"1\" class=\"dataframe\">\n",
       "  <thead>\n",
       "    <tr style=\"text-align: right;\">\n",
       "      <th></th>\n",
       "      <th>coffee_shop_name</th>\n",
       "      <th>full_review_text</th>\n",
       "      <th>star_rating</th>\n",
       "    </tr>\n",
       "  </thead>\n",
       "  <tbody>\n",
       "    <tr>\n",
       "      <th>0</th>\n",
       "      <td>The Factory - Cafe With a Soul</td>\n",
       "      <td>11/25/2016 1 check-in Love love loved the atm...</td>\n",
       "      <td>5.0 star rating</td>\n",
       "    </tr>\n",
       "    <tr>\n",
       "      <th>1</th>\n",
       "      <td>The Factory - Cafe With a Soul</td>\n",
       "      <td>12/2/2016 Listed in Date Night: Austin, Ambia...</td>\n",
       "      <td>4.0 star rating</td>\n",
       "    </tr>\n",
       "    <tr>\n",
       "      <th>2</th>\n",
       "      <td>The Factory - Cafe With a Soul</td>\n",
       "      <td>11/30/2016 1 check-in Listed in Brunch Spots ...</td>\n",
       "      <td>4.0 star rating</td>\n",
       "    </tr>\n",
       "    <tr>\n",
       "      <th>3</th>\n",
       "      <td>The Factory - Cafe With a Soul</td>\n",
       "      <td>11/25/2016 Very cool decor! Good drinks Nice ...</td>\n",
       "      <td>2.0 star rating</td>\n",
       "    </tr>\n",
       "    <tr>\n",
       "      <th>4</th>\n",
       "      <td>The Factory - Cafe With a Soul</td>\n",
       "      <td>12/3/2016 1 check-in They are located within ...</td>\n",
       "      <td>4.0 star rating</td>\n",
       "    </tr>\n",
       "  </tbody>\n",
       "</table>\n",
       "</div>"
      ],
      "text/plain": [
       "                  coffee_shop_name  \\\n",
       "0  The Factory - Cafe With a Soul    \n",
       "1  The Factory - Cafe With a Soul    \n",
       "2  The Factory - Cafe With a Soul    \n",
       "3  The Factory - Cafe With a Soul    \n",
       "4  The Factory - Cafe With a Soul    \n",
       "\n",
       "                                    full_review_text        star_rating  \n",
       "0   11/25/2016 1 check-in Love love loved the atm...   5.0 star rating   \n",
       "1   12/2/2016 Listed in Date Night: Austin, Ambia...   4.0 star rating   \n",
       "2   11/30/2016 1 check-in Listed in Brunch Spots ...   4.0 star rating   \n",
       "3   11/25/2016 Very cool decor! Good drinks Nice ...   2.0 star rating   \n",
       "4   12/3/2016 1 check-in They are located within ...   4.0 star rating   "
      ]
     },
     "execution_count": 35,
     "metadata": {},
     "output_type": "execute_result"
    }
   ],
   "source": [
    "# import data from git repo where it came from, using pandas as pd\n",
    "\n",
    "url = \"https://raw.githubusercontent.com/LambdaSchool/DS-Unit-4-Sprint-1-NLP/master/module1-text-data/data/yelp_coffeeshop_review_data.csv\"\n",
    "\n",
    "shops = pd.read_csv(url)\n",
    "shops.head()"
   ]
  },
  {
   "cell_type": "code",
   "execution_count": 36,
   "metadata": {},
   "outputs": [
    {
     "name": "stdout",
     "output_type": "stream",
     "text": [
      " 11/25/2016 1 check-in Love love loved the atmosphere! Every corner of the coffee shop had its own style, and there were swings!!! I ordered the matcha latte, and it was muy fantastico! Ordering and getting my drink were pretty streamlined. I ordered on an iPad, which included all beverage selections that ranged from coffee to wine, desired level of sweetness, and a checkout system. I got my latte within minutes!  I was hoping for a typical heart or feather on my latte, but found myself listing out all the possibilities of what the art may be. Any ideas? \n"
     ]
    }
   ],
   "source": [
    "# using RegEx we can clean the data in the 'cull_review_text' from the dataset\n",
    "\n",
    "# Taking a single element of the column to undestand cleaning necessities\n",
    "s = shops['full_review_text'][0]\n",
    "print(s)\n",
    "\n",
    "# make note that there is excessive white space, punctuations, and numerical values that are not pertient\n",
    "# to  tokenization"
   ]
  },
  {
   "cell_type": "code",
   "execution_count": 37,
   "metadata": {},
   "outputs": [
    {
     "data": {
      "text/plain": [
       "'//  check-in Love love loved the atmosphere! Every corner of the coffee shop had its own style, and there were swings!!! I ordered the matcha latte, and it was muy fantastico! Ordering and getting my drink were pretty streamlined. I ordered on an iPad, which included all beverage selections that ranged from coffee to wine, desired level of sweetness, and a checkout system. I got my latte within minutes!  I was hoping for a typical heart or feather on my latte, but found myself listing out all the possibilities of what the art may be. Any ideas?'"
      ]
     },
     "execution_count": 37,
     "metadata": {},
     "output_type": "execute_result"
    }
   ],
   "source": [
    "# using lamnda function to remove numericals, and white space\n",
    "\n",
    "''.join([i for i in s if not i.isdigit()]).strip()"
   ]
  },
  {
   "cell_type": "code",
   "execution_count": 38,
   "metadata": {},
   "outputs": [],
   "source": [
    "# general text cleaning function\n",
    "\n",
    "def punct_cleaning(column):\n",
    "    '''\n",
    "    This function removes the following kinds of characters: numericals, punctuations.\n",
    "    \n",
    "    All upper case characters are changed to lower case to have more uniform set of tokens.\n",
    "    '''\n",
    "    \n",
    "    processed_data = []                                              # new list to eppend cleaned elements\n",
    "    \n",
    "    for i in column:\n",
    "        text = re.sub('[%s]' % string.punctuation, '', i).lower()    # elementwise punct/case cleaning\n",
    "        text = ''.join([i for i in text if not i.isdigit()]).strip() # removing numericals, and remaining whitespace\n",
    "        processed_data.append(text)                                  # appending elements to empty list\n",
    "        \n",
    "    return pd.DataFrame(processed_data)                              # converting new list to dataframe w/pd"
   ]
  },
  {
   "cell_type": "code",
   "execution_count": 40,
   "metadata": {},
   "outputs": [
    {
     "data": {
      "text/plain": [
       "'checkin love love loved the atmosphere every corner of the coffee shop had its own style and there were swings i ordered the matcha latte and it was muy fantastico ordering and getting my drink were pretty streamlined i ordered on an ipad which included all beverage selections that ranged from coffee to wine desired level of sweetness and a checkout system i got my latte within minutes  i was hoping for a typical heart or feather on my latte but found myself listing out all the possibilities of what the art may be any ideas'"
      ]
     },
     "execution_count": 40,
     "metadata": {},
     "output_type": "execute_result"
    }
   ],
   "source": [
    "shops['full_review_text'] = punct_cleaning(shops['full_review_text']) # applying punct_cleaning to 'full_review_text'\n",
    "shops['full_review_text'][0]"
   ]
  },
  {
   "cell_type": "code",
   "execution_count": 31,
   "metadata": {},
   "outputs": [],
   "source": [
    "# Instantiating spacy library for english language, and creating tokenizer\n",
    "\n",
    "nlp = spacy.load(\"en_core_web_lg\")\n",
    "\n",
    "# Tokenizer\n",
    "tokenizer = Tokenizer(nlp.vocab)"
   ]
  },
  {
   "cell_type": "code",
   "execution_count": 69,
   "metadata": {},
   "outputs": [],
   "source": [
    "STOP_WORDS = nlp.Defaults.stop_words.union(['a','and', '   ', '  ', ' ', 'coffee', 'ive', 'im', 'austin', 'the', 'try', 'be', 'this',])"
   ]
  },
  {
   "cell_type": "code",
   "execution_count": 48,
   "metadata": {},
   "outputs": [],
   "source": [
    "# Tokenizer Pipe\n",
    "\n",
    "tokens = []\n",
    "\n",
    "for doc in tokenizer.pipe(shops['full_review_text'], batch_size=500):\n",
    "    \n",
    "    doc_tokens = []\n",
    "    \n",
    "    for token in doc: \n",
    "        if token.text.lower() not in STOP_WORDS:\n",
    "            doc_tokens.append(token.text.lower())\n",
    "   \n",
    "    tokens.append(doc_tokens)\n",
    "    \n",
    "shops['tokens'] = tokens"
   ]
  },
  {
   "cell_type": "code",
   "execution_count": 49,
   "metadata": {},
   "outputs": [
    {
     "data": {
      "text/plain": [
       "0    [checkin, love, love, loved, atmosphere, corne...\n",
       "1    [listed, date, night, ambiance, beautiful, lov...\n",
       "2    [checkin, listed, brunch, spots, loved, eclect...\n",
       "3    [cool, decor, good, drinks, nice, seating, ove...\n",
       "4    [checkin, located, northcross, mall, shopping,...\n",
       "Name: tokens, dtype: object"
      ]
     },
     "execution_count": 49,
     "metadata": {},
     "output_type": "execute_result"
    }
   ],
   "source": [
    "shops['tokens'].head()"
   ]
  },
  {
   "cell_type": "code",
   "execution_count": 51,
   "metadata": {},
   "outputs": [
    {
     "data": {
      "text/plain": [
       "[('place', 5426),\n",
       " ('good', 3975),\n",
       " ('great', 3919),\n",
       " ('like', 3089),\n",
       " ('checkin', 1966),\n",
       " ('love', 1935),\n",
       " ('time', 1884),\n",
       " ('food', 1869),\n",
       " ('nice', 1741),\n",
       " ('shop', 1696)]"
      ]
     },
     "execution_count": 51,
     "metadata": {},
     "output_type": "execute_result"
    }
   ],
   "source": [
    "# The object `Counter` takes an iterable, but you can instaniate an empty one and update it. \n",
    "word_counts = Counter()\n",
    "\n",
    "# Update it based on a split of each of our documents\n",
    "shops['tokens'].apply(lambda x: word_counts.update(x))\n",
    "\n",
    "# Print out the 10 most common words\n",
    "word_counts.most_common(10)"
   ]
  },
  {
   "cell_type": "code",
   "execution_count": 52,
   "metadata": {},
   "outputs": [],
   "source": [
    "def count(docs):\n",
    "\n",
    "        word_counts = Counter()\n",
    "        appears_in = Counter()\n",
    "        \n",
    "        total_docs = len(docs)\n",
    "\n",
    "        for doc in docs:\n",
    "            word_counts.update(doc)\n",
    "            appears_in.update(set(doc))\n",
    "\n",
    "        temp = zip(word_counts.keys(), word_counts.values())\n",
    "        \n",
    "        wc = pd.DataFrame(temp, columns = ['word', 'count'])\n",
    "\n",
    "        wc['rank'] = wc['count'].rank(method='first', ascending=False)\n",
    "        total = wc['count'].sum()\n",
    "\n",
    "        wc['pct_total'] = wc['count'].apply(lambda x: x / total)\n",
    "        \n",
    "        wc = wc.sort_values(by='rank')\n",
    "        wc['cul_pct_total'] = wc['pct_total'].cumsum()\n",
    "\n",
    "        t2 = zip(appears_in.keys(), appears_in.values())\n",
    "        ac = pd.DataFrame(t2, columns=['word', 'appears_in'])\n",
    "        wc = ac.merge(wc, on='word')\n",
    "\n",
    "        wc['appears_in_pct'] = wc['appears_in'].apply(lambda x: x / total_docs)\n",
    "        \n",
    "        return wc.sort_values(by='rank')"
   ]
  },
  {
   "cell_type": "code",
   "execution_count": 53,
   "metadata": {},
   "outputs": [
    {
     "data": {
      "text/html": [
       "<div>\n",
       "<style scoped>\n",
       "    .dataframe tbody tr th:only-of-type {\n",
       "        vertical-align: middle;\n",
       "    }\n",
       "\n",
       "    .dataframe tbody tr th {\n",
       "        vertical-align: top;\n",
       "    }\n",
       "\n",
       "    .dataframe thead th {\n",
       "        text-align: right;\n",
       "    }\n",
       "</style>\n",
       "<table border=\"1\" class=\"dataframe\">\n",
       "  <thead>\n",
       "    <tr style=\"text-align: right;\">\n",
       "      <th></th>\n",
       "      <th>word</th>\n",
       "      <th>appears_in</th>\n",
       "      <th>count</th>\n",
       "      <th>rank</th>\n",
       "      <th>pct_total</th>\n",
       "      <th>cul_pct_total</th>\n",
       "      <th>appears_in_pct</th>\n",
       "    </tr>\n",
       "  </thead>\n",
       "  <tbody>\n",
       "    <tr>\n",
       "      <th>113</th>\n",
       "      <td>place</td>\n",
       "      <td>3659</td>\n",
       "      <td>5426</td>\n",
       "      <td>1.0</td>\n",
       "      <td>0.015694</td>\n",
       "      <td>0.015694</td>\n",
       "      <td>0.480436</td>\n",
       "    </tr>\n",
       "    <tr>\n",
       "      <th>164</th>\n",
       "      <td>good</td>\n",
       "      <td>2789</td>\n",
       "      <td>3975</td>\n",
       "      <td>2.0</td>\n",
       "      <td>0.011497</td>\n",
       "      <td>0.027191</td>\n",
       "      <td>0.366203</td>\n",
       "    </tr>\n",
       "    <tr>\n",
       "      <th>66</th>\n",
       "      <td>great</td>\n",
       "      <td>2836</td>\n",
       "      <td>3919</td>\n",
       "      <td>3.0</td>\n",
       "      <td>0.011335</td>\n",
       "      <td>0.038527</td>\n",
       "      <td>0.372374</td>\n",
       "    </tr>\n",
       "    <tr>\n",
       "      <th>144</th>\n",
       "      <td>like</td>\n",
       "      <td>2124</td>\n",
       "      <td>3089</td>\n",
       "      <td>4.0</td>\n",
       "      <td>0.008935</td>\n",
       "      <td>0.047461</td>\n",
       "      <td>0.278887</td>\n",
       "    </tr>\n",
       "    <tr>\n",
       "      <th>14</th>\n",
       "      <td>checkin</td>\n",
       "      <td>1960</td>\n",
       "      <td>1966</td>\n",
       "      <td>5.0</td>\n",
       "      <td>0.005686</td>\n",
       "      <td>0.053148</td>\n",
       "      <td>0.257353</td>\n",
       "    </tr>\n",
       "  </tbody>\n",
       "</table>\n",
       "</div>"
      ],
      "text/plain": [
       "        word  appears_in  count  rank  pct_total  cul_pct_total  \\\n",
       "113    place        3659   5426   1.0   0.015694       0.015694   \n",
       "164     good        2789   3975   2.0   0.011497       0.027191   \n",
       "66     great        2836   3919   3.0   0.011335       0.038527   \n",
       "144     like        2124   3089   4.0   0.008935       0.047461   \n",
       "14   checkin        1960   1966   5.0   0.005686       0.053148   \n",
       "\n",
       "     appears_in_pct  \n",
       "113        0.480436  \n",
       "164        0.366203  \n",
       "66         0.372374  \n",
       "144        0.278887  \n",
       "14         0.257353  "
      ]
     },
     "execution_count": 53,
     "metadata": {},
     "output_type": "execute_result"
    }
   ],
   "source": [
    "wc = count(shops['tokens'])\n",
    "wc.head()"
   ]
  },
  {
   "cell_type": "code",
   "execution_count": 54,
   "metadata": {},
   "outputs": [
    {
     "data": {
      "image/png": "[encoded data removed]",
      "text/plain": [
       "<Figure size 432x288 with 1 Axes>"
      ]
     },
     "metadata": {
      "needs_background": "light"
     },
     "output_type": "display_data"
    }
   ],
   "source": [
    "wc_top20 = wc[wc['rank'] <= 20]\n",
    "\n",
    "squarify.plot(sizes=wc_top20['pct_total'], label=wc_top20['word'], alpha=.8 )\n",
    "plt.axis('off')\n",
    "plt.show()"
   ]
  },
  {
   "cell_type": "code",
   "execution_count": 55,
   "metadata": {
    "collapsed": true,
    "jupyter": {
     "outputs_hidden": true
    }
   },
   "outputs": [
    {
     "data": {
      "image/png": "[encoded data removed]",
      "text/plain": [
       "<Figure size 432x288 with 1 Axes>"
      ]
     },
     "metadata": {
      "needs_background": "light"
     },
     "output_type": "display_data"
    }
   ],
   "source": [
    "sns.lineplot(x='rank', y='cul_pct_total', data=wc);"
   ]
  },
  {
   "cell_type": "code",
   "execution_count": 65,
   "metadata": {},
   "outputs": [],
   "source": [
    "# Wrap it all in a function\n",
    "def get_lemmas(text):\n",
    "\n",
    "    lemmas = []\n",
    "    \n",
    "    doc = nlp(text)\n",
    "    \n",
    "    for token in doc: \n",
    "        if ((token.text.lower() not in STOP_WORDS) and (token.is_punct == False) and (token.lemma_ != '-PRON-')):\n",
    "            lemmas.append(token.lemma_)\n",
    "    \n",
    "    return lemmas"
   ]
  },
  {
   "cell_type": "code",
   "execution_count": 66,
   "metadata": {},
   "outputs": [],
   "source": [
    "shops['lemmas'] = shops['full_review_text'].apply(get_lemmas)"
   ]
  },
  {
   "cell_type": "code",
   "execution_count": 67,
   "metadata": {},
   "outputs": [
    {
     "data": {
      "text/html": [
       "<div>\n",
       "<style scoped>\n",
       "    .dataframe tbody tr th:only-of-type {\n",
       "        vertical-align: middle;\n",
       "    }\n",
       "\n",
       "    .dataframe tbody tr th {\n",
       "        vertical-align: top;\n",
       "    }\n",
       "\n",
       "    .dataframe thead th {\n",
       "        text-align: right;\n",
       "    }\n",
       "</style>\n",
       "<table border=\"1\" class=\"dataframe\">\n",
       "  <thead>\n",
       "    <tr style=\"text-align: right;\">\n",
       "      <th></th>\n",
       "      <th>word</th>\n",
       "      <th>appears_in</th>\n",
       "      <th>count</th>\n",
       "      <th>rank</th>\n",
       "      <th>pct_total</th>\n",
       "      <th>cul_pct_total</th>\n",
       "      <th>appears_in_pct</th>\n",
       "    </tr>\n",
       "  </thead>\n",
       "  <tbody>\n",
       "    <tr>\n",
       "      <th>108</th>\n",
       "      <td>place</td>\n",
       "      <td>3888</td>\n",
       "      <td>6044</td>\n",
       "      <td>1.0</td>\n",
       "      <td>0.017357</td>\n",
       "      <td>0.017357</td>\n",
       "      <td>0.510504</td>\n",
       "    </tr>\n",
       "    <tr>\n",
       "      <th>154</th>\n",
       "      <td>good</td>\n",
       "      <td>3602</td>\n",
       "      <td>5410</td>\n",
       "      <td>2.0</td>\n",
       "      <td>0.015536</td>\n",
       "      <td>0.032893</td>\n",
       "      <td>0.472952</td>\n",
       "    </tr>\n",
       "    <tr>\n",
       "      <th>102</th>\n",
       "      <td>not</td>\n",
       "      <td>3055</td>\n",
       "      <td>5175</td>\n",
       "      <td>3.0</td>\n",
       "      <td>0.014861</td>\n",
       "      <td>0.047754</td>\n",
       "      <td>0.401129</td>\n",
       "    </tr>\n",
       "    <tr>\n",
       "      <th>65</th>\n",
       "      <td>great</td>\n",
       "      <td>2853</td>\n",
       "      <td>3946</td>\n",
       "      <td>4.0</td>\n",
       "      <td>0.011332</td>\n",
       "      <td>0.059086</td>\n",
       "      <td>0.374606</td>\n",
       "    </tr>\n",
       "    <tr>\n",
       "      <th>134</th>\n",
       "      <td>like</td>\n",
       "      <td>2260</td>\n",
       "      <td>3351</td>\n",
       "      <td>5.0</td>\n",
       "      <td>0.009623</td>\n",
       "      <td>0.068709</td>\n",
       "      <td>0.296744</td>\n",
       "    </tr>\n",
       "  </tbody>\n",
       "</table>\n",
       "</div>"
      ],
      "text/plain": [
       "      word  appears_in  count  rank  pct_total  cul_pct_total  appears_in_pct\n",
       "108  place        3888   6044   1.0   0.017357       0.017357        0.510504\n",
       "154   good        3602   5410   2.0   0.015536       0.032893        0.472952\n",
       "102    not        3055   5175   3.0   0.014861       0.047754        0.401129\n",
       "65   great        2853   3946   4.0   0.011332       0.059086        0.374606\n",
       "134   like        2260   3351   5.0   0.009623       0.068709        0.296744"
      ]
     },
     "execution_count": 67,
     "metadata": {},
     "output_type": "execute_result"
    }
   ],
   "source": [
    "wc = count(shops['lemmas'])\n",
    "wc.head()"
   ]
  },
  {
   "cell_type": "code",
   "execution_count": 68,
   "metadata": {},
   "outputs": [
    {
     "data": {
      "image/png": "[encoded data removed]",
      "text/plain": [
       "<Figure size 432x288 with 1 Axes>"
      ]
     },
     "metadata": {
      "needs_background": "light"
     },
     "output_type": "display_data"
    }
   ],
   "source": [
    "wc_top20 = wc[wc['rank'] <= 20]\n",
    "\n",
    "squarify.plot(sizes=wc_top20['pct_total'], label=wc_top20['word'], alpha=.8 )\n",
    "plt.axis('off')\n",
    "plt.show()"
   ]
  },
  {
   "cell_type": "code",
   "execution_count": 64,
   "metadata": {
    "collapsed": true,
    "jupyter": {
     "outputs_hidden": true
    }
   },
   "outputs": [
    {
     "data": {
      "text/plain": [
       "0       [checkin, love, love, love, atmosphere, corner...\n",
       "1       [list, date, night, austin, ambiance, austin, ...\n",
       "2       [checkin, list, brunch, spot, love, eclectic, ...\n",
       "3       [cool, decor, good, drink, nice, seating,  ,  ...\n",
       "4       [checkin, locate, northcross, mall, shopping, ...\n",
       "5       [checkin, cute, cafe, think, moment, step, not...\n",
       "6       [checkin, list, nuptial, coffee, bliss, anders...\n",
       "7       [checkin, love, place,   , star, cleanliness, ...\n",
       "8       [checkin, ok, let, try, approach,  , pro, musi...\n",
       "9       [checkin, place, show, social, medium, day, fi...\n",
       "10      [checkin, list, americano, average, cute, stud...\n",
       "11      [store, decoration, honestly, coffee, good, co...\n",
       "12      [checkin, list,   , time, charm, factory, deco...\n",
       "13      [cute, little, cafe, have, drive, place, time,...\n",
       "14      [beautiful, eccentric, coffee, shop, library, ...\n",
       "15      [checkin, list, search, fantastic, coffee, not...\n",
       "16      [love, atmosphere, frequent, coffee, shop, def...\n",
       "17      [checkin, check, video, review, youtubecom, wa...\n",
       "18      [checkin, note, come, look, place, work, remot...\n",
       "19      [aesthetic, place, love, corner, coffee, shop,...\n",
       "20      [checkin, check, factory, past, sunday, husban...\n",
       "21      [place, cute, new, favorite, coffee, spot, bur...\n",
       "22      [try, new, cafe, spot, burnet, friend,  , unas...\n",
       "23      [greeting, atmosphere, feel, create, place, sp...\n",
       "24      [craft, coffee, drink, tea, beer, wine, friend...\n",
       "25      [okay, visit, friend, la, try, mint, mojito, i...\n",
       "26      [checkin, guy, place, amazing, limited, food, ...\n",
       "27      [fantastic, atmosphere, drop, catch, work, fin...\n",
       "28      [place, amazing, wifi, s, fine, mean, place, h...\n",
       "29      [write, yelp, review, walk, feel, like, hipste...\n",
       "                              ...                        \n",
       "7586    [list, wanna, eat, north, central, austin, tea...\n",
       "7587    [checkin, list,  , yelp, review, challenge, co...\n",
       "7588    [checkin, let, start, say, introduce, salted, ...\n",
       "7589    [great, restaurant, think, disservice, appear,...\n",
       "7590    [today, try, place, austin, september, list, l...\n",
       "7591    [good, place, eat, austin, celiac, clean, prep...\n",
       "7592    [good, service, good, food, price, expensive, ...\n",
       "7593    [checkin, favorite, tea, jasmine, blueberry, g...\n",
       "7594    [checkin, favorite, tea, place, austin, vegan,...\n",
       "7595    [checkin, list, vegan, beast, have, time, frie...\n",
       "7596    [good, experience, restaurant,  , jordan, wait...\n",
       "7597    [checkin, list,  , yelp,  , challenge, holla, ...\n",
       "7598    [go, steep, room, today, early, lunch, employe...\n",
       "7599    [checkin, hate, go, food, bc, lot, time, feel,...\n",
       "7600    [great, service, unimaginative, uneventful, fo...\n",
       "7601    [checkin, great, selection, tea, purchase, hom...\n",
       "7602    [checkin, week, masala, chai, fix, wait, time,...\n",
       "7603    [checkin, go, lunch, today, lauren, h, baby, c...\n",
       "7604    [complaint, wonderful, little, restaurant,  , ...\n",
       "7605    [get, chipotle, chocolate, chai, tea, amazing,...\n",
       "7606    [great, tea, food, domain, location, roomy, cl...\n",
       "7607    [place, amaze, favorite, austin, spot, hit, to...\n",
       "7608    [come, visit, friend, austin, fun, place, lot,...\n",
       "7609    [checkin, notice, friend, come, enjoy, decide,...\n",
       "7610    [great, food, not, meal, enjoy, clean, great, ...\n",
       "7611    [actually, step, restaurant, chance, favorite,...\n",
       "7612    [ok, steeping, room, awesome, great, menu, ite...\n",
       "7613    [love, come, tea, atmosphere, pretty, fresh, o...\n",
       "7614    [food, average, booth, not, feel, clean, waits...\n",
       "7615    [finally, stop, lunch, colleague, be, glad, de...\n",
       "Name: lemmas, Length: 7616, dtype: object"
      ]
     },
     "execution_count": 64,
     "metadata": {},
     "output_type": "execute_result"
    }
   ],
   "source": [
    "shops['lemmas']"
   ]
  },
  {
   "cell_type": "code",
   "execution_count": 70,
   "metadata": {},
   "outputs": [
    {
     "data": {
      "image/png": "[encoded data removed]",
      "text/plain": [
       "<Figure size 432x288 with 1 Axes>"
      ]
     },
     "metadata": {
      "needs_background": "light"
     },
     "output_type": "display_data"
    }
   ],
   "source": [
    "sns.lineplot(x='rank', y='cul_pct_total', data=wc);"
   ]
  },
  {
   "cell_type": "markdown",
   "metadata": {},
   "source": [
    "## How do we want to analyze these coffee shop tokens? \n",
    "\n",
    "- Overall Word / Token Count\n",
    "- View Counts by Rating \n",
    "- *Hint:* a 'bad' coffee shops has a rating betweeen 1 & 3 based on the distribution of ratings. A 'good' coffee shop is a 4 or 5. "
   ]
  },
  {
   "cell_type": "code",
   "execution_count": 71,
   "metadata": {},
   "outputs": [],
   "source": [
    "\n",
    "# Remove 'star rating' and float point from star_rating\n",
    "shops[\"star_rating\"] = shops[\"star_rating\"].apply(lambda x: x.strip('.0 star rating'))\n",
    "\n",
    "# Convert star_rating to int\n",
    "shops[\"star_rating\"] = shops[\"star_rating\"].astype(int)\n"
   ]
  },
  {
   "cell_type": "code",
   "execution_count": 72,
   "metadata": {},
   "outputs": [],
   "source": [
    "\n",
    "# Overall Token count:\n",
    "good = shops[shops['star_rating'] >= 4]\n",
    "bad = shops[shops['star_rating'] < 4]"
   ]
  },
  {
   "cell_type": "code",
   "execution_count": 73,
   "metadata": {},
   "outputs": [],
   "source": [
    "good_wc = count(good['lemmas'])\n",
    "bad_wc = count(bad['lemmas'])"
   ]
  },
  {
   "cell_type": "markdown",
   "metadata": {},
   "source": [
    "## Can visualize the words with the greatest difference in counts between 'good' & 'bad'?\n",
    "\n",
    "Couple Notes: \n",
    "- Rel. freq. instead of absolute counts b/c of different numbers of reviews\n",
    "- Only look at the top 5-10 words with the greatest differences\n"
   ]
  },
  {
   "cell_type": "code",
   "execution_count": 74,
   "metadata": {},
   "outputs": [
    {
     "data": {
      "image/png": "[encoded data removed]",
      "text/plain": [
       "<Figure size 432x288 with 1 Axes>"
      ]
     },
     "metadata": {
      "needs_background": "light"
     },
     "output_type": "display_data"
    }
   ],
   "source": [
    "\n",
    "# Create visualization for 1-3 star \n",
    "\n",
    "wc_top20 = bad_wc[bad_wc['rank'] <= 20]\n",
    "\n",
    "squarify.plot(sizes=wc_top20['pct_total'], label=wc_top20['word'], alpha=.8)\n",
    "plt.axis('off')\n",
    "plt.show();"
   ]
  },
  {
   "cell_type": "code",
   "execution_count": 75,
   "metadata": {},
   "outputs": [
    {
     "data": {
      "image/png": "[encoded data removed]",
      "text/plain": [
       "<Figure size 432x288 with 1 Axes>"
      ]
     },
     "metadata": {
      "needs_background": "light"
     },
     "output_type": "display_data"
    }
   ],
   "source": [
    "\n",
    "# Create visualization for 4 & 5 ratings\n",
    "\n",
    "wc_top20 = good_wc[good_wc['rank'] <= 20]\n",
    "\n",
    "squarify.plot(sizes=wc_top20['pct_total'], label=wc_top20['word'], alpha=.8)\n",
    "plt.axis('off')\n",
    "plt.show();"
   ]
  },
  {
   "cell_type": "markdown",
   "metadata": {
    "colab_type": "text",
    "id": "1dCb1q8XphcP",
    "toc-hr-collapsed": true
   },
   "source": [
    "## Stretch Goals\n",
    "\n",
    "* Analyze another corpus of documents - such as Indeed.com job listings ;).\n",
    "* Play with the Spacy API to\n",
    " - Extract Named Entities\n",
    " - Extracting 'noun chunks'\n",
    " - Attempt Document Classification with just Spacy\n",
    " - *Note:* This [course](https://course.spacy.io/) will be of interesting in helping you with these stretch goals. \n",
    "* Try to build a plotly dash app with your text data \n",
    "\n"
   ]
  }
 ],
 "metadata": {
  "colab": {
   "collapsed_sections": [],
   "name": "LS_DS_421_Text_Data_Assignment.ipynb",
   "provenance": [],
   "version": "0.3.2"
  },
  "kernelspec": {
   "display_name": "U4-S1-NLP (python 3.7)",
   "language": "python",
   "name": "u4-s1-nlp"
  },
  "language_info": {
   "codemirror_mode": {
    "name": "ipython",
    "version": 3
   },
   "file_extension": ".py",
   "mimetype": "text/x-python",
   "name": "python",
   "nbconvert_exporter": "python",
   "pygments_lexer": "ipython3",
   "version": "3.7.0"
  },
  "toc-autonumbering": false
 },
 "nbformat": 4,
 "nbformat_minor": 4
}
